{
 "cells": [
  {
   "cell_type": "code",
   "execution_count": null,
   "metadata": {},
   "outputs": [],
   "source": [
    "from datetime import datetime, timedelta\n",
    "\n",
    "service = 'haproxy'\n",
    "history = 'logs/2.haproxy.log'\n",
    "\n",
    "if service.lower() == 'haproxy':\n",
    "    COLUMN = 2\n",
    "    FMT = '%H:%M:%S'\n",
    "elif service.lower() == 'apache':\n",
    "    COLUMN = 5\n",
    "    FMT = '%H:%M:%S.%f'\n",
    "\n",
    "suffix = 0\n",
    "dest = open(f'{service}_{suffix}', 'w')\n",
    "\n",
    "with open(history, 'r') as source:\n",
    "    log = iter(source)\n",
    "    line = next(log)\n",
    "\n",
    "    while True:\n",
    "        try:\n",
    "            dest.write(line)\n",
    "            nline = next(log)\n",
    "        except StopIteration:\n",
    "            break\n",
    "\n",
    "        tm = datetime.strptime(line.split(' ')[COLUMN], FMT)\n",
    "        ntm = datetime.strptime(nline.split(' ')[COLUMN], FMT)\n",
    "\n",
    "        if ntm - tm > timedelta(seconds=1):\n",
    "            dest.close()\n",
    "            suffix += 1\n",
    "            dest = open(f'{service}_{suffix}', 'w')\n",
    "        line = nline\n",
    "\n",
    "    dest.write(nline)\n",
    "    dest.close()"
   ]
  }
 ],
 "metadata": {
  "kernelspec": {
   "display_name": "Python 3",
   "language": "python",
   "name": "python3"
  },
  "language_info": {
   "codemirror_mode": {
    "name": "ipython",
    "version": 3
   },
   "file_extension": ".py",
   "mimetype": "text/x-python",
   "name": "python",
   "nbconvert_exporter": "python",
   "pygments_lexer": "ipython3",
   "version": "3.9.3"
  }
 },
 "nbformat": 4,
 "nbformat_minor": 4
}
