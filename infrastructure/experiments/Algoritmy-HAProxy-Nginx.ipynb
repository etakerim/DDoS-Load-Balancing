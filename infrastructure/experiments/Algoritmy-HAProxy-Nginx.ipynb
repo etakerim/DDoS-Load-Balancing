{
 "cells": [
  {
   "cell_type": "code",
   "execution_count": 54,
   "metadata": {},
   "outputs": [],
   "source": [
    "%matplotlib inline\n",
    "import pandas as pd\n",
    "import matplotlib.dates as md\n",
    "import matplotlib.pyplot as mplt\n",
    "import re\n",
    "import os\n",
    "\n",
    "def ab_stats(balancer, file):\n",
    "    # files = ['ab_100_10.txt', 'ab_1000_100.txt', 'ab_10000_1000.txt']\n",
    "    folders = [\n",
    "        'roundrobin-1', 'roundrobin-2', 'roundrobin-3', \n",
    "        'leastconn-1', 'leastconn-2', 'leastconn-3',\n",
    "    ]\n",
    "    tests = pd.DataFrame(\n",
    "        columns=[\n",
    "            'duration', 'complete_requests', 'req_per_sec', 'transfer_rate', \n",
    "            'connection_mean', 'connection_sd'\n",
    "        ]\n",
    "    )\n",
    "\n",
    "    for folder in folders:\n",
    "        measurement = {}\n",
    "        with open(os.path.join(os.path.join(balancer, folder), file), 'r') as ab:\n",
    "            for line in ab:\n",
    "                if (m := re.search(r'Time taken for tests:\\s+(\\d*\\.?\\d*)', line)):\n",
    "                    measurement['duration'] = m.group(1)\n",
    "                elif (m := re.search('Complete requests:\\s+(\\d+)', line)):\n",
    "                    measurement['complete_requests'] = m.group(1)\n",
    "                elif (m := re.search('Requests per second:\\s+(\\d*\\.?\\d*)', line)):\n",
    "                    measurement['req_per_sec'] = m.group(1)\n",
    "                elif (m := re.search('Transfer rate:\\s+(\\d*\\.?\\d*)', line)):\n",
    "                    measurement['transfer_rate'] = m.group(1)\n",
    "                elif (m := re.search('Total:\\s+\\d+\\s*(\\d+)\\s+(\\d*\\.?\\d*)', line)):\n",
    "                    measurement['connection_mean'] = m.group(1)\n",
    "                    measurement['connection_sd'] = m.group(2)\n",
    "        tests = tests.append(pd.Series(measurement, name=folder))\n",
    "\n",
    "    tests['req_per_sec'] = tests['req_per_sec'].apply(pd.to_numeric)\n",
    "    tests['connection_mean'] = tests['connection_mean'].apply(pd.to_numeric)\n",
    "    tests['connection_sd'] = tests['connection_sd'].apply(pd.to_numeric)\n",
    "\n",
    "    return tests  \n",
    "\n",
    "def ab_plot(b, fieldname):\n",
    "    algo = pd.DataFrame(columns=['nodes', 'roundrobin', 'leastconn'])\n",
    "    for n in range(1, 4):\n",
    "        stats = pd.Series({\n",
    "            'nodes': n,\n",
    "            'roundrobin': b.at[f'roundrobin-{n}', fieldname], \n",
    "            'leastconn': b.at[f'leastconn-{n}', fieldname]\n",
    "        })\n",
    "        algo = algo.append(stats, ignore_index=True)\n",
    "        \n",
    "    return algo\n",
    "    \n",
    "def ab_request_frequency_plot(benchmark, name):\n",
    "    algo = ab_plot(benchmark, 'req_per_sec')\n",
    "    plt = algo.plot.bar(x='nodes', y=['roundrobin', 'leastconn'],\n",
    "                    title=name,  grid=True)\n",
    "    plt.set_xlabel('Počet uzlov')\n",
    "    plt.set_ylabel('Počet požiadaviek za sekundu')\n",
    "    \n",
    "def ab_connection_mean(benchmark, name):\n",
    "    algo = ab_plot(benchmark, 'connection_mean')\n",
    "    std = ab_plot(benchmark, 'connection_sd')\n",
    "    \n",
    "    plt = algo.plot.bar(x='nodes', y=['roundrobin', 'leastconn'],\n",
    "                    title=name,  grid=True, \n",
    "                    yerr=std[['roundrobin', 'leastconn']].T.values)\n",
    "    plt.set_xlabel('Počet uzlov')\n",
    "    plt.set_ylabel('Priemerné trvanie požiadavky [ms]')\n"
   ]
  },
  {
   "cell_type": "code",
   "execution_count": 55,
   "metadata": {},
   "outputs": [
    {
     "data": {
      "text/html": [
       "<div>\n",
       "<style scoped>\n",
       "    .dataframe tbody tr th:only-of-type {\n",
       "        vertical-align: middle;\n",
       "    }\n",
       "\n",
       "    .dataframe tbody tr th {\n",
       "        vertical-align: top;\n",
       "    }\n",
       "\n",
       "    .dataframe thead th {\n",
       "        text-align: right;\n",
       "    }\n",
       "</style>\n",
       "<table border=\"1\" class=\"dataframe\">\n",
       "  <thead>\n",
       "    <tr style=\"text-align: right;\">\n",
       "      <th></th>\n",
       "      <th>duration</th>\n",
       "      <th>complete_requests</th>\n",
       "      <th>req_per_sec</th>\n",
       "      <th>transfer_rate</th>\n",
       "      <th>connection_mean</th>\n",
       "      <th>connection_sd</th>\n",
       "    </tr>\n",
       "  </thead>\n",
       "  <tbody>\n",
       "    <tr>\n",
       "      <th>roundrobin-1</th>\n",
       "      <td>2.507</td>\n",
       "      <td>1000</td>\n",
       "      <td>398.81</td>\n",
       "      <td>1121.89</td>\n",
       "      <td>238</td>\n",
       "      <td>30.1</td>\n",
       "    </tr>\n",
       "    <tr>\n",
       "      <th>roundrobin-2</th>\n",
       "      <td>2.131</td>\n",
       "      <td>1000</td>\n",
       "      <td>469.23</td>\n",
       "      <td>1320.37</td>\n",
       "      <td>193</td>\n",
       "      <td>164.5</td>\n",
       "    </tr>\n",
       "    <tr>\n",
       "      <th>roundrobin-3</th>\n",
       "      <td>1.508</td>\n",
       "      <td>1000</td>\n",
       "      <td>663.33</td>\n",
       "      <td>1864.52</td>\n",
       "      <td>144</td>\n",
       "      <td>58.2</td>\n",
       "    </tr>\n",
       "    <tr>\n",
       "      <th>leastconn-1</th>\n",
       "      <td>2.504</td>\n",
       "      <td>1000</td>\n",
       "      <td>399.43</td>\n",
       "      <td>1123.43</td>\n",
       "      <td>238</td>\n",
       "      <td>31.0</td>\n",
       "    </tr>\n",
       "    <tr>\n",
       "      <th>leastconn-2</th>\n",
       "      <td>1.660</td>\n",
       "      <td>1000</td>\n",
       "      <td>602.39</td>\n",
       "      <td>1694.57</td>\n",
       "      <td>155</td>\n",
       "      <td>101.5</td>\n",
       "    </tr>\n",
       "    <tr>\n",
       "      <th>leastconn-3</th>\n",
       "      <td>1.342</td>\n",
       "      <td>1000</td>\n",
       "      <td>745.14</td>\n",
       "      <td>2094.88</td>\n",
       "      <td>124</td>\n",
       "      <td>88.5</td>\n",
       "    </tr>\n",
       "  </tbody>\n",
       "</table>\n",
       "</div>"
      ],
      "text/plain": [
       "             duration complete_requests  req_per_sec transfer_rate  \\\n",
       "roundrobin-1    2.507              1000       398.81       1121.89   \n",
       "roundrobin-2    2.131              1000       469.23       1320.37   \n",
       "roundrobin-3    1.508              1000       663.33       1864.52   \n",
       "leastconn-1     2.504              1000       399.43       1123.43   \n",
       "leastconn-2     1.660              1000       602.39       1694.57   \n",
       "leastconn-3     1.342              1000       745.14       2094.88   \n",
       "\n",
       "              connection_mean  connection_sd  \n",
       "roundrobin-1              238           30.1  \n",
       "roundrobin-2              193          164.5  \n",
       "roundrobin-3              144           58.2  \n",
       "leastconn-1               238           31.0  \n",
       "leastconn-2               155          101.5  \n",
       "leastconn-3               124           88.5  "
      ]
     },
     "execution_count": 55,
     "metadata": {},
     "output_type": "execute_result"
    }
   ],
   "source": [
    "a = ab_stats('haproxy_ab', 'ab_1000_100.txt')\n",
    "a"
   ]
  },
  {
   "cell_type": "code",
   "execution_count": 56,
   "metadata": {},
   "outputs": [
    {
     "data": {
      "image/png": "[encoded data removed]",
      "text/plain": [
       "<Figure size 432x288 with 1 Axes>"
      ]
     },
     "metadata": {
      "needs_background": "light"
     },
     "output_type": "display_data"
    }
   ],
   "source": [
    "ab_request_frequency_plot(a, 'HAProxy')"
   ]
  },
  {
   "cell_type": "code",
   "execution_count": 57,
   "metadata": {},
   "outputs": [
    {
     "data": {
      "image/png": "[encoded data removed]",
      "text/plain": [
       "<Figure size 432x288 with 1 Axes>"
      ]
     },
     "metadata": {
      "needs_background": "light"
     },
     "output_type": "display_data"
    }
   ],
   "source": [
    "ab_connection_mean(a, 'HAProxy')"
   ]
  },
  {
   "cell_type": "code",
   "execution_count": 58,
   "metadata": {},
   "outputs": [
    {
     "data": {
      "text/html": [
       "<div>\n",
       "<style scoped>\n",
       "    .dataframe tbody tr th:only-of-type {\n",
       "        vertical-align: middle;\n",
       "    }\n",
       "\n",
       "    .dataframe tbody tr th {\n",
       "        vertical-align: top;\n",
       "    }\n",
       "\n",
       "    .dataframe thead th {\n",
       "        text-align: right;\n",
       "    }\n",
       "</style>\n",
       "<table border=\"1\" class=\"dataframe\">\n",
       "  <thead>\n",
       "    <tr style=\"text-align: right;\">\n",
       "      <th></th>\n",
       "      <th>duration</th>\n",
       "      <th>complete_requests</th>\n",
       "      <th>req_per_sec</th>\n",
       "      <th>transfer_rate</th>\n",
       "      <th>connection_mean</th>\n",
       "      <th>connection_sd</th>\n",
       "    </tr>\n",
       "  </thead>\n",
       "  <tbody>\n",
       "    <tr>\n",
       "      <th>roundrobin-1</th>\n",
       "      <td>2.476</td>\n",
       "      <td>1000</td>\n",
       "      <td>403.92</td>\n",
       "      <td>1134.90</td>\n",
       "      <td>236</td>\n",
       "      <td>144.2</td>\n",
       "    </tr>\n",
       "    <tr>\n",
       "      <th>roundrobin-2</th>\n",
       "      <td>2.093</td>\n",
       "      <td>1000</td>\n",
       "      <td>477.83</td>\n",
       "      <td>1342.58</td>\n",
       "      <td>188</td>\n",
       "      <td>162.0</td>\n",
       "    </tr>\n",
       "    <tr>\n",
       "      <th>roundrobin-3</th>\n",
       "      <td>1.484</td>\n",
       "      <td>1000</td>\n",
       "      <td>673.97</td>\n",
       "      <td>1893.05</td>\n",
       "      <td>139</td>\n",
       "      <td>109.6</td>\n",
       "    </tr>\n",
       "    <tr>\n",
       "      <th>leastconn-1</th>\n",
       "      <td>2.426</td>\n",
       "      <td>1000</td>\n",
       "      <td>412.18</td>\n",
       "      <td>1158.32</td>\n",
       "      <td>230</td>\n",
       "      <td>29.4</td>\n",
       "    </tr>\n",
       "    <tr>\n",
       "      <th>leastconn-2</th>\n",
       "      <td>1.647</td>\n",
       "      <td>1000</td>\n",
       "      <td>607.22</td>\n",
       "      <td>1707.44</td>\n",
       "      <td>151</td>\n",
       "      <td>67.2</td>\n",
       "    </tr>\n",
       "    <tr>\n",
       "      <th>leastconn-3</th>\n",
       "      <td>1.303</td>\n",
       "      <td>1000</td>\n",
       "      <td>767.63</td>\n",
       "      <td>2158.03</td>\n",
       "      <td>121</td>\n",
       "      <td>93.3</td>\n",
       "    </tr>\n",
       "  </tbody>\n",
       "</table>\n",
       "</div>"
      ],
      "text/plain": [
       "             duration complete_requests  req_per_sec transfer_rate  \\\n",
       "roundrobin-1    2.476              1000       403.92       1134.90   \n",
       "roundrobin-2    2.093              1000       477.83       1342.58   \n",
       "roundrobin-3    1.484              1000       673.97       1893.05   \n",
       "leastconn-1     2.426              1000       412.18       1158.32   \n",
       "leastconn-2     1.647              1000       607.22       1707.44   \n",
       "leastconn-3     1.303              1000       767.63       2158.03   \n",
       "\n",
       "              connection_mean  connection_sd  \n",
       "roundrobin-1              236          144.2  \n",
       "roundrobin-2              188          162.0  \n",
       "roundrobin-3              139          109.6  \n",
       "leastconn-1               230           29.4  \n",
       "leastconn-2               151           67.2  \n",
       "leastconn-3               121           93.3  "
      ]
     },
     "execution_count": 58,
     "metadata": {},
     "output_type": "execute_result"
    }
   ],
   "source": [
    "a = ab_stats('nginx_ab', 'ab_1000_100.txt')\n",
    "a"
   ]
  },
  {
   "cell_type": "code",
   "execution_count": 59,
   "metadata": {},
   "outputs": [
    {
     "data": {
      "image/png": "[encoded data removed]",
      "text/plain": [
       "<Figure size 432x288 with 1 Axes>"
      ]
     },
     "metadata": {
      "needs_background": "light"
     },
     "output_type": "display_data"
    }
   ],
   "source": [
    "ab_request_frequency_plot(a, 'NGINX')"
   ]
  },
  {
   "cell_type": "code",
   "execution_count": 60,
   "metadata": {},
   "outputs": [
    {
     "data": {
      "image/png": "[encoded data removed]",
      "text/plain": [
       "<Figure size 432x288 with 1 Axes>"
      ]
     },
     "metadata": {
      "needs_background": "light"
     },
     "output_type": "display_data"
    }
   ],
   "source": [
    "ab_connection_mean(a, 'NGINX')"
   ]
  },
  {
   "cell_type": "code",
   "execution_count": null,
   "metadata": {},
   "outputs": [],
   "source": []
  },
  {
   "cell_type": "code",
   "execution_count": null,
   "metadata": {},
   "outputs": [],
   "source": []
  }
 ],
 "metadata": {
  "kernelspec": {
   "display_name": "Python 3",
   "language": "python",
   "name": "python3"
  },
  "language_info": {
   "codemirror_mode": {
    "name": "ipython",
    "version": 3
   },
   "file_extension": ".py",
   "mimetype": "text/x-python",
   "name": "python",
   "nbconvert_exporter": "python",
   "pygments_lexer": "ipython3",
   "version": "3.9.2"
  }
 },
 "nbformat": 4,
 "nbformat_minor": 4
}
